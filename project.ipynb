{
 "nbformat": 4,
 "nbformat_minor": 2,
 "metadata": {
  "language_info": {
   "name": "python",
   "codemirror_mode": {
    "name": "ipython",
    "version": 3
   }
  },
  "orig_nbformat": 2,
  "file_extension": ".py",
  "mimetype": "text/x-python",
  "name": "python",
  "npconvert_exporter": "python",
  "pygments_lexer": "ipython3",
  "version": 3
 },
 "cells": [
  {
   "cell_type": "markdown",
   "metadata": {},
   "source": [
    "<h1 align=\"center\">Project title</h1>\n",
    "<h2 align=\"center\">Abdalrhman Mohamed</h2>\n",
    "\n",
    "# Project title\n",
    "## Project idea\n",
    "## Data set details\n",
    "Ideally existing dataset. No data-collection projects.\n",
    "## Software\n",
    "- Which libraries will you use? What will you write?\n",
    "- [TensorFlow](https://www.tensorflow.org/)\n",
    "## Papers to read.\n",
    "Include 1-3 relevant papers. You will probably want to read at least one of them before submitting your proposal.\n",
    "- BERT et al\n",
    "## Teammate\n",
    "- No teammates.\n",
    "Will you have a teammate? Maximum team size is 3 students.\n",
    "If you work with a teammate, in the final report, we need a list of ownerships on codes, experiments, and reports.\n",
    "Each function of the code, each experimental result, each paragraph of a report can have one owner, who made most contribution on that part of the project. If you assign one name to a code file, a paragraphy in the report, list the percentage of individual contribution.\n",
    "Everybody needs to submit the proposal, progress report, and the final report, even if they are identical to your teammate's.\n",
    "## Progress Milestones\n",
    "What will you complete by the progress and final report due date?\n",
    "Experimental results of some kind are expected here."
   ]
  },
  {
   "cell_type": "code",
   "execution_count": null,
   "metadata": {},
   "outputs": [],
   "source": []
  }
 ]
}